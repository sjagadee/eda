{
  "nbformat": 4,
  "nbformat_minor": 0,
  "metadata": {
    "colab": {
      "provenance": [],
      "mount_file_id": "1ClFj4voLBGkmBErigOqOM_QUaetAZJbn",
      "authorship_tag": "ABX9TyO9MSu4tWJscjLn/9rnIQ/B",
      "include_colab_link": true
    },
    "kernelspec": {
      "name": "python3",
      "display_name": "Python 3"
    },
    "language_info": {
      "name": "python"
    }
  },
  "cells": [
    {
      "cell_type": "markdown",
      "metadata": {
        "id": "view-in-github",
        "colab_type": "text"
      },
      "source": [
        "<a href=\"https://colab.research.google.com/github/sjagadee/eda/blob/main/NewEDA/basics.ipynb\" target=\"_parent\"><img src=\"https://colab.research.google.com/assets/colab-badge.svg\" alt=\"Open In Colab\"/></a>"
      ]
    },
    {
      "cell_type": "markdown",
      "source": [
        "# Exploratory Data Analysis"
      ],
      "metadata": {
        "id": "su6GmHD8aSbR"
      }
    },
    {
      "cell_type": "markdown",
      "source": [
        "Exploratory Data Analysis\n",
        "\n",
        "Steps:\n",
        "* Business Understanding\n",
        "* Data Understanding\n",
        "* Data Collection\n",
        "* Data Preparation"
      ],
      "metadata": {
        "id": "ngw1LpjWaPeP"
      }
    },
    {
      "cell_type": "code",
      "source": [],
      "metadata": {
        "id": "LYUHs5xpaHG-"
      },
      "execution_count": null,
      "outputs": []
    },
    {
      "cell_type": "code",
      "source": [
        "from google.colab import drive\n",
        "drive.mount('/content/drive')"
      ],
      "metadata": {
        "id": "bGUMeiGBatFR"
      },
      "execution_count": null,
      "outputs": []
    }
  ]
}